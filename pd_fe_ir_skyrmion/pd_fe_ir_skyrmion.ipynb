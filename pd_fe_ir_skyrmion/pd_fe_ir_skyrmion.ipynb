{
 "cells": [
  {
   "cell_type": "markdown",
   "metadata": {},
   "source": [
    "# Skyrmion in Pd/Fe/Ir(111)\n",
    "\n",
    "In this tutorial we will reproduce Malottki et. al (Enhanced skyrmion stability due to exchange frustration\n",
    "JO  - Scientific Reports 2017, https://rdcu.be/d9rHc)\n",
    "\n",
    "In this article two types of Pd/Fe/Ir layers are studied hcp and fcc. The interaction parameters (*Table 1* in Malottki et. al) are:\n",
    "\n",
    "## Interaction parameters\n",
    "\n",
    "|         | J1    | J2    | J3    | J4   | J5   | J6   | J7   | J8    | J9    | D1   | K    |\n",
    "|---------|-------|-------|-------|------|------|------|------|-------|-------|------|------|\n",
    "| **hcp** | 13.66 | -0.51 | -2.88 | 0.07 | 0.55 | —    | —    | —     | —     | 1.2  | 0.8  |\n",
    "| **fcc** | 14.40 | -2.48 | -2.69 | 0.52 | 0.74 | 0.28 | 0.16 | -0.57 | -0.21 | 1.0  | 0.7  |\n",
    "\n",
    "The positive sign of the DMI indicates favoring of right rotating spin spirals and the positive sign of K indicates an easy out-of-plane magnetization direction. The coefficients are given in meV.\n",
    "\n",
    "To set up the correct lattice, let's remind ourselved fo the bravais vectors required to specify an hcp and an fcc stacking respectively.\n",
    "\n",
    "Like Malottki et. al. we shall assume the magnetic moment to be $3.0 \\mu_B$.\n",
    "\n",
    "## System geometry\n",
    "\n",
    "A Pd/Fe/Ir(111) has a triangular lattice with a lattice constant $a \\approx 2.72 \\AA$.\n",
    "\n",
    "So we can choose the in-plane bravais vectors\n",
    "$$\n",
    "\\begin{aligned}\n",
    "    a_1 &= a \\left(1,0\\right)\\\\\n",
    "    a_2 &= a \\left(\\frac{1}{2},\\frac{\\sqrt{3}}{2}\\right)\n",
    "\\end{aligned}\n",
    "$$\n",
    "\n",
    "In order to have fast-running simulations we will use a small system size with $32 \\times 32 \\times 1$ cells."
   ]
  },
  {
   "cell_type": "markdown",
   "metadata": {},
   "source": [
    "# Step 1: Fill the spirit input file\n",
    "\n",
    "Open the `input_fcc.cfg` and `input_hcp.cfg` files and enter the heisenberg parameters as well as the system geometry.\n",
    "Make sure to adjust:\n",
    " - the number of basis cell\n",
    " - the strength and direction of the uniaxial anisotropy\n",
    " - the bravais vectors\n",
    " - the lattice constant\n",
    " - the magnetic moment\n",
    " - the Heisenberg pairs\n"
   ]
  },
  {
   "cell_type": "markdown",
   "metadata": {},
   "source": [
    "# Step 2: Minimize the energy of a skyrmion\n",
    "\n",
    "After the input files have been adjusted, we can try to find a skyrmion. Adjust the following code so that a suitable guess for an initial skyrmion configuration is inserted.\n",
    "\n",
    "Tips: \n",
    " - You can use the `configuration.plus_z` and `configuration.skyrmion` functions\n",
    " - All functions in spirit take the `p_state` as their first argument\n"
   ]
  },
  {
   "cell_type": "code",
   "execution_count": null,
   "metadata": {},
   "outputs": [],
   "source": [
    "from spirit import state, configuration, simulation, io\n",
    "\n",
    "input_file = \"./input_fcc.cfg\"\n",
    "with state.State(input_file) as p_state:\n",
    "    ... # Insert a suitable starting configuration and minimize its energy\n",
    "    simulation.start(p_state, simulation.METHOD_LLG, simulation.SOLVER_VP)\n",
    "    io.image_write(p_state, \"skyrmion_minimized.ovf\")"
   ]
  }
 ],
 "metadata": {
  "kernelspec": {
   "display_name": "Python 3",
   "language": "python",
   "name": "python3"
  },
  "language_info": {
   "codemirror_mode": {
    "name": "ipython",
    "version": 3
   },
   "file_extension": ".py",
   "mimetype": "text/x-python",
   "name": "python",
   "nbconvert_exporter": "python",
   "pygments_lexer": "ipython3",
   "version": "3.12.0"
  }
 },
 "nbformat": 4,
 "nbformat_minor": 2
}
